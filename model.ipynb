{
 "cells": [
  {
   "cell_type": "code",
   "execution_count": 2,
   "outputs": [],
   "source": [
    "import tensorflow as tf\n",
    "import scipy.io\n",
    "import numpy as np\n",
    "import matplotlib.pyplot as plt\n",
    "\n",
    "epochs = 50"
   ],
   "metadata": {
    "collapsed": false
   }
  },
  {
   "cell_type": "markdown",
   "source": [
    "### Data loading"
   ],
   "metadata": {
    "collapsed": false
   }
  },
  {
   "cell_type": "code",
   "execution_count": 3,
   "outputs": [],
   "source": [
    "mat_test = scipy.io.loadmat('data/test_32x32.mat')\n",
    "mat_train = scipy.io.loadmat('data/train_32x32.mat')"
   ],
   "metadata": {
    "collapsed": false
   }
  },
  {
   "cell_type": "markdown",
   "source": [
    "### Data preprocessing"
   ],
   "metadata": {
    "collapsed": false
   }
  },
  {
   "cell_type": "code",
   "execution_count": 4,
   "outputs": [],
   "source": [
    "x_train, y_train = mat_train['X'], mat_train['y']\n",
    "x_test, y_test = mat_test['X'], mat_test['y']\n",
    "\n",
    "x_train = np.transpose(x_train, (3, 0, 1, 2))\n",
    "x_test = np.transpose(x_test, (3, 0, 1, 2))\n",
    "\n",
    "x_train = x_train / 255.0\n",
    "x_test = x_test / 255.0\n",
    "\n",
    "y_train = np.reshape(y_train, (-1))\n",
    "y_test = np.reshape(y_test, (-1))\n",
    "\n",
    "y_train = tf.keras.utils.to_categorical(y_train - 1, num_classes=10)\n",
    "y_test = tf.keras.utils.to_categorical(y_test - 1, num_classes=10)\n",
    "\n",
    "x_train = np.mean(x_train, axis=3, keepdims=True)\n",
    "x_test = np.mean(x_test, axis=3, keepdims=True)"
   ],
   "metadata": {
    "collapsed": false
   }
  },
  {
   "cell_type": "markdown",
   "source": [
    "### Model init and compilation"
   ],
   "metadata": {
    "collapsed": false
   }
  },
  {
   "cell_type": "code",
   "execution_count": 5,
   "outputs": [
    {
     "name": "stderr",
     "output_type": "stream",
     "text": [
      "2023-05-18 23:25:51.305986: I tensorflow/core/platform/cpu_feature_guard.cc:193] This TensorFlow binary is optimized with oneAPI Deep Neural Network Library (oneDNN) to use the following CPU instructions in performance-critical operations:  SSE4.1 SSE4.2\n",
      "To enable them in other operations, rebuild TensorFlow with the appropriate compiler flags.\n"
     ]
    }
   ],
   "source": [
    "model = tf.keras.models.Sequential(layers=[\n",
    "    tf.keras.layers.Conv2D(32, (3, 3), activation=tf.nn.relu, input_shape=(32, 32, 1)),\n",
    "    tf.keras.layers.MaxPooling2D((2, 2)),\n",
    "    tf.keras.layers.Conv2D(64, (3, 3), activation=tf.nn.relu),\n",
    "    tf.keras.layers.MaxPooling2D((2, 2)),\n",
    "    tf.keras.layers.Flatten(),\n",
    "    tf.keras.layers.Dense(128, activation=tf.nn.relu),\n",
    "    tf.keras.layers.Dense(10, activation=tf.nn.softmax)\n",
    "])\n",
    "\n",
    "model.compile(optimizer=tf.optimizers.Adam(), loss='categorical_crossentropy', metrics=['accuracy'])"
   ],
   "metadata": {
    "collapsed": false
   }
  },
  {
   "cell_type": "markdown",
   "source": [
    "### Model training"
   ],
   "metadata": {
    "collapsed": false
   },
   "outputs": [
    {
     "name": "stdout",
     "output_type": "stream",
     "text": [
      "1338/2290 [================>.............] - ETA: 8s - loss: 0.4185 - accuracy: 0.8768"
     ]
    }
   ]
  },
  {
   "cell_type": "code",
   "execution_count": 40,
   "outputs": [
    {
     "name": "stdout",
     "output_type": "stream",
     "text": [
      "Epoch 1/50\n",
      "2290/2290 [==============================] - 26s 11ms/step - loss: 0.8797 - accuracy: 0.7303\n",
      "Epoch 2/50\n",
      "2290/2290 [==============================] - 28s 12ms/step - loss: 0.4950 - accuracy: 0.8600\n",
      "Epoch 3/50\n",
      "2290/2290 [==============================] - 29s 13ms/step - loss: 0.4139 - accuracy: 0.8816\n",
      "Epoch 4/50\n",
      "2290/2290 [==============================] - 28s 12ms/step - loss: 0.3630 - accuracy: 0.8957\n",
      "Epoch 5/50\n",
      "2290/2290 [==============================] - 33s 14ms/step - loss: 0.3270 - accuracy: 0.9051\n",
      "Epoch 6/50\n",
      "2290/2290 [==============================] - 29s 13ms/step - loss: 0.2968 - accuracy: 0.9133\n",
      "Epoch 7/50\n",
      "2290/2290 [==============================] - 29s 12ms/step - loss: 0.2715 - accuracy: 0.9203\n",
      "Epoch 8/50\n",
      "2290/2290 [==============================] - 29s 13ms/step - loss: 0.2502 - accuracy: 0.9263\n",
      "Epoch 9/50\n",
      "2290/2290 [==============================] - 29s 13ms/step - loss: 0.2315 - accuracy: 0.9313\n",
      "Epoch 10/50\n",
      "2290/2290 [==============================] - 41s 18ms/step - loss: 0.2140 - accuracy: 0.9362\n",
      "Epoch 11/50\n",
      "2290/2290 [==============================] - 30s 13ms/step - loss: 0.1970 - accuracy: 0.9412\n",
      "Epoch 12/50\n",
      "2290/2290 [==============================] - 29s 13ms/step - loss: 0.1796 - accuracy: 0.9463\n",
      "Epoch 13/50\n",
      "2290/2290 [==============================] - 28s 12ms/step - loss: 0.1664 - accuracy: 0.9506\n",
      "Epoch 14/50\n",
      "2290/2290 [==============================] - 29s 13ms/step - loss: 0.1531 - accuracy: 0.9532\n",
      "Epoch 15/50\n",
      "2290/2290 [==============================] - 29s 12ms/step - loss: 0.1387 - accuracy: 0.9579\n",
      "Epoch 16/50\n",
      "2290/2290 [==============================] - 29s 13ms/step - loss: 0.1294 - accuracy: 0.9603\n",
      "Epoch 17/50\n",
      "2290/2290 [==============================] - 29s 12ms/step - loss: 0.1176 - accuracy: 0.9642\n",
      "Epoch 18/50\n",
      "2290/2290 [==============================] - 30s 13ms/step - loss: 0.1095 - accuracy: 0.9659\n",
      "Epoch 19/50\n",
      "2290/2290 [==============================] - 29s 13ms/step - loss: 0.1002 - accuracy: 0.9682\n",
      "Epoch 20/50\n",
      "2290/2290 [==============================] - 29s 13ms/step - loss: 0.0911 - accuracy: 0.9709\n",
      "Epoch 21/50\n",
      "2290/2290 [==============================] - 29s 13ms/step - loss: 0.0849 - accuracy: 0.9727\n",
      "Epoch 22/50\n",
      "2290/2290 [==============================] - 29s 13ms/step - loss: 0.0768 - accuracy: 0.9749\n",
      "Epoch 23/50\n",
      "2290/2290 [==============================] - 74s 32ms/step - loss: 0.0724 - accuracy: 0.9767\n",
      "Epoch 24/50\n",
      "2290/2290 [==============================] - 27s 12ms/step - loss: 0.0692 - accuracy: 0.9780\n",
      "Epoch 25/50\n",
      "2290/2290 [==============================] - 28s 12ms/step - loss: 0.0633 - accuracy: 0.9784\n",
      "Epoch 26/50\n",
      "2290/2290 [==============================] - 37s 16ms/step - loss: 0.0603 - accuracy: 0.9799\n",
      "Epoch 27/50\n",
      "2290/2290 [==============================] - 38s 17ms/step - loss: 0.0557 - accuracy: 0.9811\n",
      "Epoch 28/50\n",
      "2290/2290 [==============================] - 30s 13ms/step - loss: 0.0521 - accuracy: 0.9824\n",
      "Epoch 29/50\n",
      "2290/2290 [==============================] - 34s 15ms/step - loss: 0.0482 - accuracy: 0.9839\n",
      "Epoch 30/50\n",
      "2290/2290 [==============================] - 36s 16ms/step - loss: 0.0484 - accuracy: 0.9832\n",
      "Epoch 31/50\n",
      "2290/2290 [==============================] - 30s 13ms/step - loss: 0.0436 - accuracy: 0.9851\n",
      "Epoch 32/50\n",
      "2290/2290 [==============================] - 35s 15ms/step - loss: 0.0432 - accuracy: 0.9851\n",
      "Epoch 33/50\n",
      "2290/2290 [==============================] - 33s 14ms/step - loss: 0.0415 - accuracy: 0.9860\n",
      "Epoch 34/50\n",
      "2290/2290 [==============================] - 35s 15ms/step - loss: 0.0389 - accuracy: 0.9866\n",
      "Epoch 35/50\n",
      "2290/2290 [==============================] - 30s 13ms/step - loss: 0.0403 - accuracy: 0.9864\n",
      "Epoch 36/50\n",
      "2290/2290 [==============================] - 30s 13ms/step - loss: 0.0371 - accuracy: 0.9876\n",
      "Epoch 37/50\n",
      "2290/2290 [==============================] - 31s 13ms/step - loss: 0.0391 - accuracy: 0.9864\n",
      "Epoch 38/50\n",
      "2290/2290 [==============================] - 31s 13ms/step - loss: 0.0352 - accuracy: 0.9878\n",
      "Epoch 39/50\n",
      "2290/2290 [==============================] - 31s 13ms/step - loss: 0.0344 - accuracy: 0.9886\n",
      "Epoch 40/50\n",
      "2290/2290 [==============================] - 30s 13ms/step - loss: 0.0347 - accuracy: 0.9883\n",
      "Epoch 41/50\n",
      "2290/2290 [==============================] - 30s 13ms/step - loss: 0.0326 - accuracy: 0.9893\n",
      "Epoch 42/50\n",
      "2290/2290 [==============================] - 30s 13ms/step - loss: 0.0344 - accuracy: 0.9887\n",
      "Epoch 43/50\n",
      "2290/2290 [==============================] - 31s 13ms/step - loss: 0.0328 - accuracy: 0.9893\n",
      "Epoch 44/50\n",
      "2290/2290 [==============================] - 30s 13ms/step - loss: 0.0324 - accuracy: 0.9895\n",
      "Epoch 45/50\n",
      "2290/2290 [==============================] - 30s 13ms/step - loss: 0.0329 - accuracy: 0.9894\n",
      "Epoch 46/50\n",
      "2290/2290 [==============================] - 30s 13ms/step - loss: 0.0281 - accuracy: 0.9910\n",
      "Epoch 47/50\n",
      "2290/2290 [==============================] - 30s 13ms/step - loss: 0.0296 - accuracy: 0.9904\n",
      "Epoch 48/50\n",
      "2290/2290 [==============================] - 30s 13ms/step - loss: 0.0298 - accuracy: 0.9902\n",
      "Epoch 49/50\n",
      "2290/2290 [==============================] - 30s 13ms/step - loss: 0.0265 - accuracy: 0.9914\n",
      "Epoch 50/50\n",
      "2290/2290 [==============================] - 31s 13ms/step - loss: 0.0312 - accuracy: 0.9899\n"
     ]
    }
   ],
   "source": [
    "history = model.fit(x_train, y_train, epochs=epochs)"
   ],
   "metadata": {
    "collapsed": false
   }
  },
  {
   "cell_type": "markdown",
   "source": [
    "### Accuracy and loss functions"
   ],
   "metadata": {
    "collapsed": false
   }
  },
  {
   "cell_type": "code",
   "execution_count": 41,
   "outputs": [
    {
     "data": {
      "text/plain": "<Figure size 640x480 with 1 Axes>",
      "image/png": "[encoded data removed]"
     },
     "metadata": {},
     "output_type": "display_data"
    },
    {
     "data": {
      "text/plain": "<Figure size 640x480 with 1 Axes>",
      "image/png": "[encoded data removed]"
     },
     "metadata": {},
     "output_type": "display_data"
    }
   ],
   "source": [
    "epochs_rate = [x+1 for x in range(epochs)]\n",
    "plt.plot(epochs_rate, history.history['accuracy'])\n",
    "plt.xlabel(\"epochs\")\n",
    "plt.ylabel(\"accuracy\")\n",
    "plt.show()\n",
    "\n",
    "plt.plot(epochs_rate, history.history['loss'])\n",
    "plt.xlabel(\"epochs\")\n",
    "plt.ylabel(\"losses\")\n",
    "plt.show()"
   ],
   "metadata": {
    "collapsed": false
   }
  },
  {
   "cell_type": "code",
   "execution_count": 42,
   "outputs": [
    {
     "name": "stdout",
     "output_type": "stream",
     "text": [
      "814/814 [==============================] - 4s 5ms/step - loss: 1.4705 - accuracy: 0.8751\n",
      "Test Loss: 1.4705013036727905\n",
      "Test Accuracy: 0.8751152157783508\n"
     ]
    }
   ],
   "source": [
    "test_loss, test_accuracy = model.evaluate(x_test, y_test)\n",
    "print('Test Loss:', test_loss)\n",
    "print('Test Accuracy:', test_accuracy)"
   ],
   "metadata": {
    "collapsed": false
   }
  },
  {
   "cell_type": "markdown",
   "source": [
    "### Exporting model to tflite"
   ],
   "metadata": {
    "collapsed": false
   }
  },
  {
   "cell_type": "code",
   "execution_count": 43,
   "outputs": [
    {
     "name": "stderr",
     "output_type": "stream",
     "text": [
      "WARNING:absl:Found untraced functions such as _jit_compiled_convolution_op, _jit_compiled_convolution_op while saving (showing 2 of 2). These functions will not be directly callable after loading.\n"
     ]
    },
    {
     "name": "stdout",
     "output_type": "stream",
     "text": [
      "INFO:tensorflow:Assets written to: /var/folders/b2/3639ntk96r36816njd79__s80000gn/T/tmp__xcywtl/assets\n"
     ]
    },
    {
     "name": "stderr",
     "output_type": "stream",
     "text": [
      "INFO:tensorflow:Assets written to: /var/folders/b2/3639ntk96r36816njd79__s80000gn/T/tmp__xcywtl/assets\n",
      "2023-05-18 21:18:34.790375: W tensorflow/compiler/mlir/lite/python/tf_tfl_flatbuffer_helpers.cc:362] Ignored output_format.\n",
      "2023-05-18 21:18:34.790549: W tensorflow/compiler/mlir/lite/python/tf_tfl_flatbuffer_helpers.cc:365] Ignored drop_control_dependency.\n",
      "2023-05-18 21:18:34.791626: I tensorflow/cc/saved_model/reader.cc:43] Reading SavedModel from: /var/folders/b2/3639ntk96r36816njd79__s80000gn/T/tmp__xcywtl\n",
      "2023-05-18 21:18:34.795370: I tensorflow/cc/saved_model/reader.cc:81] Reading meta graph with tags { serve }\n",
      "2023-05-18 21:18:34.795382: I tensorflow/cc/saved_model/reader.cc:122] Reading SavedModel debug info (if present) from: /var/folders/b2/3639ntk96r36816njd79__s80000gn/T/tmp__xcywtl\n",
      "2023-05-18 21:18:34.802827: I tensorflow/cc/saved_model/loader.cc:228] Restoring SavedModel bundle.\n",
      "2023-05-18 21:18:34.870331: I tensorflow/cc/saved_model/loader.cc:212] Running initialization op on SavedModel bundle at path: /var/folders/b2/3639ntk96r36816njd79__s80000gn/T/tmp__xcywtl\n",
      "2023-05-18 21:18:34.886859: I tensorflow/cc/saved_model/loader.cc:301] SavedModel load for tags { serve }; Status: success: OK. Took 94922 microseconds.\n"
     ]
    }
   ],
   "source": [
    "converter = tf.lite.TFLiteConverter.from_keras_model(model)\n",
    "tflite_model = converter.convert()\n",
    "\n",
    "with open(\"model.tflite\", \"wb\") as f:\n",
    "    f.write(tflite_model)\n"
   ],
   "metadata": {
    "collapsed": false
   }
  }
 ],
 "metadata": {
  "kernelspec": {
   "display_name": "Python 3",
   "language": "python",
   "name": "python3"
  },
  "language_info": {
   "codemirror_mode": {
    "name": "ipython",
    "version": 2
   },
   "file_extension": ".py",
   "mimetype": "text/x-python",
   "name": "python",
   "nbconvert_exporter": "python",
   "pygments_lexer": "ipython2",
   "version": "2.7.6"
  }
 },
 "nbformat": 4,
 "nbformat_minor": 0
}
